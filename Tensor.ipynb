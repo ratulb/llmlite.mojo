{
  "nbformat": 4,
  "nbformat_minor": 0,
  "metadata": {
    "colab": {
      "provenance": [],
      "authorship_tag": "ABX9TyOLwsyZHbgAsB90apPoTopB",
      "include_colab_link": true
    },
    "kernelspec": {
      "name": "python3",
      "display_name": "Python 3"
    },
    "language_info": {
      "name": "python"
    }
  },
  "cells": [
    {
      "cell_type": "markdown",
      "metadata": {
        "id": "view-in-github",
        "colab_type": "text"
      },
      "source": [
        "<a href=\"https://colab.research.google.com/github/ratulb/llmlite.mojo/blob/main/Tensor.ipynb\" target=\"_parent\"><img src=\"https://colab.research.google.com/assets/colab-badge.svg\" alt=\"Open In Colab\"/></a>"
      ]
    },
    {
      "cell_type": "code",
      "execution_count": null,
      "metadata": {
        "id": "NMBtGWpEuyVn"
      },
      "outputs": [],
      "source": [
        "class Tensor:\n",
        "    def __init__(self, value, requires_grad=False):\n",
        "        self.value = value\n",
        "        self.requires_grad = requires_grad\n",
        "        self.grad = 0.0\n",
        "        self._backward = lambda: None\n",
        "        self._prev = set()\n",
        "        self.name = \"\"\n",
        "\n",
        "    def __add__(self, other):\n",
        "        out = Tensor(self.value + other.value, self.requires_grad or other.requires_grad)\n",
        "\n",
        "        def _backward():\n",
        "            if self.requires_grad:\n",
        "                self.grad += out.grad\n",
        "            if other.requires_grad:\n",
        "                other.grad += out.grad\n",
        "\n",
        "        out._backward = _backward\n",
        "        out._prev = {self, other}\n",
        "        return out\n",
        "\n",
        "    def __sub__(self, other):\n",
        "        out = Tensor(self.value - other.value, self.requires_grad or other.requires_grad)\n",
        "\n",
        "        def _backward():\n",
        "            if self.requires_grad:\n",
        "                self.grad += out.grad\n",
        "            if other.requires_grad:\n",
        "                other.grad -= out.grad\n",
        "\n",
        "        out._backward = _backward\n",
        "        out._prev = {self, other}\n",
        "        return out\n",
        "\n",
        "    def __mul__(self, other):\n",
        "        out = Tensor(self.value * other.value, self.requires_grad or other.requires_grad)\n",
        "\n",
        "        def _backward():\n",
        "            if self.requires_grad:\n",
        "                self.grad += other.value * out.grad\n",
        "            if other.requires_grad:\n",
        "                other.grad += self.value * out.grad\n",
        "\n",
        "        out._backward = _backward\n",
        "        out._prev = {self, other}\n",
        "        return out\n",
        "\n",
        "    def backward(self):\n",
        "        topo = []\n",
        "        visited = set()\n",
        "\n",
        "        def build_topo(tensor):\n",
        "            if tensor not in visited:\n",
        "                visited.add(tensor)\n",
        "                for parent in tensor._prev:\n",
        "                    build_topo(parent)\n",
        "                topo.append(tensor)\n",
        "\n",
        "        build_topo(self)\n",
        "\n",
        "        self.grad = 1.0  # starting gradient\n",
        "        for t in reversed(topo):\n",
        "            t._backward()\n"
      ]
    },
    {
      "cell_type": "code",
      "source": [
        "# Setup\n",
        "A = Tensor(2.0, requires_grad=True); A.name = 'A'\n",
        "B = Tensor(3.0, requires_grad=True); B.name = 'B'\n",
        "D = Tensor(4.0, requires_grad=True); D.name = 'D'\n",
        "\n",
        "# Graph\n",
        "C = A + B; C.name = 'C'\n",
        "E = C + D; E.name = 'E'\n",
        "F = E + A; F.name = 'F'\n",
        "G = F * A; G.name = 'G'\n",
        "\n",
        "#G = (A + B + D + A) * A\n",
        "\n",
        "# Backward\n",
        "G.backward()\n",
        "\n",
        "# Print grads\n",
        "for t in [A, B, C, D, E, F, G]:\n",
        "    print(f\"{t.name}: value={t.value}, grad={t.grad}, requires_grad={t.requires_grad}\")\n"
      ],
      "metadata": {
        "id": "6S9GnuzoEv2y"
      },
      "execution_count": null,
      "outputs": []
    },
    {
      "cell_type": "code",
      "source": [
        "A = Tensor(2.0, requires_grad=True); A.name = 'A'\n",
        "B = Tensor(3.0, requires_grad=True); B.name = 'B'\n",
        "C = Tensor(4.0, requires_grad=True); C.name = 'C'\n",
        "D = Tensor(5.0, requires_grad=True); D.name = 'D'\n",
        "\n",
        "E = A + B; E.name = 'E'\n",
        "F = C * D; F.name = 'F'\n",
        "G = E - F; G.name = 'G'\n",
        "\n",
        "G.backward()\n",
        "for t in [A, B, C, D, E, F, G]:\n",
        "    print(f\"{t.name}: value={t.value}, grad={t.grad}, requires_grad={t.requires_grad}\")"
      ],
      "metadata": {
        "id": "8bMfjas6X4Uv"
      },
      "execution_count": null,
      "outputs": []
    },
    {
      "cell_type": "code",
      "source": [],
      "metadata": {
        "id": "6OxRpzpMZjXh"
      },
      "execution_count": null,
      "outputs": []
    },
    {
      "cell_type": "code",
      "source": [
        "import torch"
      ],
      "metadata": {
        "id": "pyiYGS5VrVtt"
      },
      "execution_count": null,
      "outputs": []
    },
    {
      "cell_type": "code",
      "source": [
        "\n",
        "import torch\n",
        "\n",
        "# Step 1: Define inputs\n",
        "A = torch.rand((3, 4), requires_grad=True)\n",
        "B = torch.rand((3, 4), requires_grad=True)\n",
        "C = torch.rand((3, 4), requires_grad=True)\n",
        "D = torch.rand((3, 4), requires_grad=True)\n",
        "\n",
        "# Step 2: Build graph\n",
        "E = A + B * D\n",
        "F = 2 * C * D - A\n",
        "G = E - F * 2  # G = A + B*D - 2*(2*C*D - A)\n",
        "\n",
        "# Step 3: Reduce G to scalar\n",
        "loss = G.sum()   # You could also do mean(), or other scalar functions\n",
        "\n",
        "# Step 4: Backward\n",
        "loss.backward()\n",
        "\n",
        "# Step 5: Get gradients\n",
        "print(\"∂loss/∂A:\\n\", A.grad)\n",
        "print(\"∂loss/∂B:\\n\", B.grad)\n",
        "print(\"∂loss/∂C:\\n\", C.grad)\n",
        "print(\"∂loss/∂D:\\n\", D.grad)\n",
        "print(\"∂loss/∂E:\\n\", E.grad)\n",
        "print(\"∂loss/∂F:\\n\", F.grad)\n",
        "print(\"∂loss/∂G:\\n\", G.grad)\n",
        "\n"
      ],
      "metadata": {
        "id": "3T48BwTXrda9"
      },
      "execution_count": null,
      "outputs": []
    },
    {
      "cell_type": "code",
      "source": [
        "import torch\n",
        "\n",
        "torch.manual_seed(42)\n",
        "\n",
        "# Define inputs\n",
        "A = torch.rand((3, 4), requires_grad=True)\n",
        "B = torch.rand((3, 4), requires_grad=True)\n",
        "C = torch.rand((3, 4), requires_grad=True)\n",
        "D = torch.rand((3, 4), requires_grad=True)\n",
        "\n",
        "# Build computation\n",
        "E = A + B * D\n",
        "F = 2 * C * D - A\n",
        "G = E - F * 2  # G has shape (3, 4), not scalar\n",
        "E.retain_grad()\n",
        "F.retain_grad()\n",
        "G.backward(gradient=torch.ones_like(G))\n",
        "\n",
        "\n",
        "\n",
        "# View grads\n",
        "print(\"∂loss/∂A:\\n\", A.grad)\n",
        "print(\"∂loss/∂B:\\n\", B.grad)\n",
        "print(\"∂loss/∂C:\\n\", C.grad)\n",
        "print(\"∂loss/∂D:\\n\", D.grad)\n",
        "print(\"∂loss/∂E:\\n\", E.grad)\n",
        "print(\"∂loss/∂F:\\n\", F.grad)\n"
      ],
      "metadata": {
        "colab": {
          "base_uri": "https://localhost:8080/"
        },
        "id": "N7-9SZrnuF0H",
        "outputId": "9d66959b-28c2-4582-d1a2-7bee2a32bd6f"
      },
      "execution_count": 31,
      "outputs": [
        {
          "output_type": "stream",
          "name": "stdout",
          "text": [
            "∂loss/∂A:\n",
            " tensor([[3., 3., 3., 3.],\n",
            "        [3., 3., 3., 3.],\n",
            "        [3., 3., 3., 3.]])\n",
            "∂loss/∂B:\n",
            " tensor([[0.5779, 0.9040, 0.5547, 0.3423],\n",
            "        [0.6343, 0.3644, 0.7104, 0.9464],\n",
            "        [0.7890, 0.2814, 0.7886, 0.5895]])\n",
            "∂loss/∂C:\n",
            " tensor([[-2.3117, -3.6159, -2.2186, -1.3693],\n",
            "        [-2.5374, -1.4576, -2.8417, -3.7856],\n",
            "        [-3.1561, -1.1257, -3.1545, -2.3579]])\n",
            "∂loss/∂D:\n",
            " tensor([[ 0.4481, -0.5103, -0.6942, -0.3681],\n",
            "        [-1.3033,  0.5493, -3.5396,  0.3264],\n",
            "        [-3.2744, -1.8915, -1.0537, -2.4042]])\n",
            "∂loss/∂E:\n",
            " tensor([[1., 1., 1., 1.],\n",
            "        [1., 1., 1., 1.],\n",
            "        [1., 1., 1., 1.]])\n",
            "∂loss/∂F:\n",
            " tensor([[-2., -2., -2., -2.],\n",
            "        [-2., -2., -2., -2.],\n",
            "        [-2., -2., -2., -2.]])\n"
          ]
        }
      ]
    }
  ]
}