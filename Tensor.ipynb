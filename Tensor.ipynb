{
  "nbformat": 4,
  "nbformat_minor": 0,
  "metadata": {
    "colab": {
      "provenance": [],
      "authorship_tag": "ABX9TyNHLWWuR1tX+Ff/BXE1lm5D",
      "include_colab_link": true
    },
    "kernelspec": {
      "name": "python3",
      "display_name": "Python 3"
    },
    "language_info": {
      "name": "python"
    }
  },
  "cells": [
    {
      "cell_type": "markdown",
      "metadata": {
        "id": "view-in-github",
        "colab_type": "text"
      },
      "source": [
        "<a href=\"https://colab.research.google.com/github/ratulb/llmlite.mojo/blob/main/Tensor.ipynb\" target=\"_parent\"><img src=\"https://colab.research.google.com/assets/colab-badge.svg\" alt=\"Open In Colab\"/></a>"
      ]
    },
    {
      "cell_type": "code",
      "execution_count": 10,
      "metadata": {
        "id": "NMBtGWpEuyVn"
      },
      "outputs": [],
      "source": [
        "class Tensor:\n",
        "    def __init__(self, value, requires_grad=False):\n",
        "        self.value = value\n",
        "        self.requires_grad = requires_grad\n",
        "        self.grad = 0.0\n",
        "        self._backward = lambda: None\n",
        "        self._prev = set()\n",
        "        self.name = \"\"\n",
        "\n",
        "    def __add__(self, other):\n",
        "        out = Tensor(self.value + other.value, self.requires_grad or other.requires_grad)\n",
        "\n",
        "        def _backward():\n",
        "            if self.requires_grad:\n",
        "                self.grad += out.grad\n",
        "            if other.requires_grad:\n",
        "                other.grad += out.grad\n",
        "\n",
        "        out._backward = _backward\n",
        "        out._prev = {self, other}\n",
        "        return out\n",
        "\n",
        "    def __mul__(self, other):\n",
        "        out = Tensor(self.value * other.value, self.requires_grad or other.requires_grad)\n",
        "\n",
        "        def _backward():\n",
        "            if self.requires_grad:\n",
        "                self.grad += other.value * out.grad\n",
        "            if other.requires_grad:\n",
        "                other.grad += self.value * out.grad\n",
        "\n",
        "        out._backward = _backward\n",
        "        out._prev = {self, other}\n",
        "        return out\n",
        "\n",
        "    def backward(self):\n",
        "        topo = []\n",
        "        visited = set()\n",
        "\n",
        "        def build_topo(tensor):\n",
        "            if tensor not in visited:\n",
        "                visited.add(tensor)\n",
        "                for parent in tensor._prev:\n",
        "                    build_topo(parent)\n",
        "                topo.append(tensor)\n",
        "\n",
        "        build_topo(self)\n",
        "\n",
        "        self.grad = 1.0  # starting gradient\n",
        "        for t in reversed(topo):\n",
        "            t._backward()\n"
      ]
    },
    {
      "cell_type": "code",
      "source": [
        "# Setup\n",
        "A = Tensor(2.0, requires_grad=True); A.name = 'A'\n",
        "B = Tensor(3.0, requires_grad=True); B.name = 'B'\n",
        "D = Tensor(4.0, requires_grad=True); D.name = 'D'\n",
        "\n",
        "# Graph\n",
        "C = A + B; C.name = 'C'\n",
        "E = C + D; E.name = 'E'\n",
        "F = E + A; F.name = 'F'\n",
        "G = F * A; G.name = 'G'\n",
        "\n",
        "#G = (A + B + D + A) * A\n",
        "\n",
        "# Backward\n",
        "G.backward()\n",
        "\n",
        "# Print grads\n",
        "for t in [A, B, C, D, E, F, G]:\n",
        "    print(f\"{t.name}: value={t.value}, grad={t.grad}, requires_grad={t.requires_grad}\")\n"
      ],
      "metadata": {
        "colab": {
          "base_uri": "https://localhost:8080/"
        },
        "id": "6S9GnuzoEv2y",
        "outputId": "73d894c7-1989-4044-c32a-4990ec368444"
      },
      "execution_count": 11,
      "outputs": [
        {
          "output_type": "stream",
          "name": "stdout",
          "text": [
            "A: value=2.0, grad=15.0, requires_grad=True\n",
            "B: value=3.0, grad=2.0, requires_grad=True\n",
            "C: value=5.0, grad=2.0, requires_grad=True\n",
            "D: value=4.0, grad=2.0, requires_grad=True\n",
            "E: value=9.0, grad=2.0, requires_grad=True\n",
            "F: value=11.0, grad=2.0, requires_grad=True\n",
            "G: value=22.0, grad=1.0, requires_grad=True\n"
          ]
        }
      ]
    }
  ]
}